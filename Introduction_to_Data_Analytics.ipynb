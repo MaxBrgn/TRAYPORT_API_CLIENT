{
  "nbformat": 4,
  "nbformat_minor": 0,
  "metadata": {
    "kernelspec": {
      "display_name": "Python 3",
      "language": "python",
      "name": "python3"
    },
    "language_info": {
      "codemirror_mode": {
        "name": "ipython",
        "version": 3
      },
      "file_extension": ".py",
      "mimetype": "text/x-python",
      "name": "python",
      "nbconvert_exporter": "python",
      "pygments_lexer": "ipython3",
      "version": "3.7.3"
    },
    "colab": {
      "provenance": [],
      "toc_visible": true
    }
  },
  "cells": [
    {
      "cell_type": "markdown",
      "source": [
        "# Introduction\n",
        "The Data Analytics API allows you to retrieve historical order and trade events far beyond what is available in Joule or the Joule Direct API. This notebook demonstrates the basic functionality of the API and some of the common workflows used by Trayport's clients."
      ],
      "metadata": {
        "id": "oF6-Nl2MbVsz"
      }
    },
    {
      "cell_type": "markdown",
      "metadata": {
        "id": "XfaRjqRVJok4"
      },
      "source": [
        "## Documentation\n",
        "\n",
        "\n",
        "*   [API documentation](https://downloads.trayport.com//downloads/Documentation/DataAnalytics/Data_Analytics_API.pdf)\n",
        "*   [Data Analytics Swagger](https://www.trayport.com/en/support/daapi/index.html)\n",
        "* [Reference Data Swagger](https://www.trayport.com/en/support/refdataapi/index.html)"
      ]
    },
    {
      "cell_type": "markdown",
      "metadata": {
        "id": "mN4G7aO5RDtN"
      },
      "source": [
        "## Imports & Preparation\n",
        "This section imports the various Python libraries used to run the rest of the notebook, defines the API endpoints and creates some helper functions."
      ]
    },
    {
      "cell_type": "code",
      "metadata": {
        "id": "-dppO3brqc2A"
      },
      "source": [
        "from IPython.display import display, Markdown, HTML\n",
        "\n",
        "import pandas as pd\n",
        "import numpy as np\n",
        "import requests\n",
        "import json\n",
        "\n",
        "from datetime import date, datetime, timedelta\n",
        "from calendar import WEDNESDAY, THURSDAY\n",
        "from time import time\n",
        "import getpass\n",
        "from functools import partial\n",
        "\n",
        "import plotly\n",
        "import plotly.graph_objs as go\n",
        "from plotly.offline import plot, iplot\n",
        "\n",
        "%matplotlib inline\n",
        "\n",
        "pd.set_option('display.float_format', lambda x: '%f' % x)"
      ],
      "execution_count": null,
      "outputs": []
    },
    {
      "cell_type": "code",
      "source": [
        "refdata_base_url = 'https://referencedata.trayport.com'\n",
        "analytics_base_url = 'https://analytics.trayport.com/api'\n",
        "\n",
        "instruments_url = refdata_base_url + '/instruments'\n",
        "markets_url = refdata_base_url + '/markets'\n",
        "sequences_url = refdata_base_url + '/sequences'\n",
        "\n",
        "trades_url = analytics_base_url + '/trades'\n",
        "ohlcv_url = analytics_base_url + '/trades/ohlcv'\n",
        "last_url = analytics_base_url + '/trades/last'\n",
        "private_url = analytics_base_url + '/trades/private'\n",
        "activity_url = analytics_base_url + '/trades/activity'\n",
        "book_url = analytics_base_url + '/orders/book'\n",
        "book_top_url = analytics_base_url + '/orders/book/top'"
      ],
      "metadata": {
        "id": "NxiNQNlKWOVI"
      },
      "execution_count": null,
      "outputs": []
    },
    {
      "cell_type": "code",
      "metadata": {
        "id": "XsrLYCnWqc2J"
      },
      "source": [
        "#Create some time variables for last Wednesday (likely to be a trading day!)\n",
        "#These will be used in future queries throughout the notebook\n",
        "\n",
        "today = date.today()\n",
        "MON, TUE, WED, THU, FRI, SAT, SUN = range(7)\n",
        "\n",
        "def lastWeekday(weekday):\n",
        "  #Mon = 0, Tue = 1, Sun = 6\n",
        "  offset = (date.today().weekday() + 6 - weekday) % 7 + 1\n",
        "  return date.today() - timedelta(days=offset)\n",
        "\n",
        "last_wednesday = lastWeekday(WED)\n",
        "last_wednesday_open = last_wednesday.strftime(\"%Y-%m-%dT07:00:00Z\")\n",
        "last_wednesday_close = last_wednesday.strftime(\"%Y-%m-%dT16:00:00Z\")"
      ],
      "execution_count": null,
      "outputs": []
    },
    {
      "cell_type": "markdown",
      "source": [
        "## Authorization\n",
        "Requests made to the Analytics and Reference Data APIs are authorized by providing an API key in the `X-API-KEY` header on all requests.\n",
        "\n",
        "Entering your API key below will cause it to be used to authorize all requests made from this notebook. Note that if you are pasting the key you may need to use the 'Ctrl + Shift + V' shortcut to allow it to be entered as plain text."
      ],
      "metadata": {
        "id": "Nl-P64rIU51z"
      }
    },
    {
      "cell_type": "code",
      "source": [
        "\n",
        "api_key = getpass.getpass(\"Please enter your Analytics API key and then press ENTER. Note that you may need to use 'Ctrl + Shift + V' when pasting:\\n\")\n",
        "headers = {\n",
        "    'x-api-key': api_key\n",
        "}\n",
        "\n",
        "def get(url, params, headers):\n",
        "  start_time = time()\n",
        "  r = requests.get(url, params, headers=headers)\n",
        "  duration = time() - start_time\n",
        "  print(r.request.url)\n",
        "  print(f'Duration: {duration:.3f}s')\n",
        "  if r.status_code != 200:\n",
        "    raise Exception(f'Status: {r.status_code}. {r.content.decode(\"utf-8\")}')\n",
        "  return r.content.decode(\"utf-8\")\n",
        "\n",
        "def get_obj(url, params={}, headers=headers):\n",
        "  content = get(url, params, headers)\n",
        "  return json.loads(content)\n",
        "\n",
        "def get_df(url, params={}, headers=headers):\n",
        "  content = get(url, params, headers)\n",
        "  df = pd.read_json(content, convert_dates=['timestamp','fromTimestamp', 'toTimestamp'])\n",
        "  if len(df) > 0:\n",
        "    if 'timestamp' in df.columns:\n",
        "      df.set_index('timestamp', inplace=True)\n",
        "  return df"
      ],
      "metadata": {
        "id": "DGTp-7GgWCDe"
      },
      "execution_count": null,
      "outputs": []
    },
    {
      "cell_type": "markdown",
      "metadata": {
        "id": "tLM8NCKDPto3"
      },
      "source": [
        "# Using the Reference Data API\n",
        "Order and trade queries in the Analytics API are specified against a specific contract or commingled market. For example, you might look for trades for NBP Apr-22.\n",
        "\n",
        "Contracts are specified by sending the IDs for the instruments (e.g. `10000625` for `NBP ICE`), the sequence (e.g. `10000305` for `Months`) and the item (e.g. `220` for `Apr-22`).\n",
        "\n",
        "You can use the Reference Data API to find the IDs for the contracts you wish to query with the Analytics API. The examples below show some common workflows.\n"
      ]
    },
    {
      "cell_type": "markdown",
      "source": [
        "## Finding the instrument\n",
        "Suppose that you want to issue a query for TTF DA trades. You'll need to start by finding the instrument ID. If you don't already know it, you can download a list of all available instruments using the `/instruments` endpoint:"
      ],
      "metadata": {
        "id": "5XTyyxFPMPGj"
      }
    },
    {
      "cell_type": "code",
      "source": [
        "instruments = get_df(instruments_url)\n",
        "instruments"
      ],
      "metadata": {
        "id": "h2wQexT4NcG4"
      },
      "execution_count": null,
      "outputs": []
    },
    {
      "cell_type": "markdown",
      "source": [
        "This shows the name and ID of each instrument in Trayport's collection. These will match the names and IDs available in Joule and in the Joule Direct API.\n",
        "\n",
        "If you know the name of the instrument you're interested in, you can then find it in the list. For example, if you only want trades for the TTF OTC instrument, you can search the list for it by name. Details of the units and currencies for the instrument will be returned, along with a link that can be used to retrieve the sequences assigned to the instrument."
      ],
      "metadata": {
        "id": "3v3kOIwpPmZS"
      }
    },
    {
      "cell_type": "code",
      "source": [
        "ttf_otc_instrument = instruments[instruments['name'] == 'TTF Hi Cal 51.6'].to_dict('records')[0]\n",
        "ttf_otc_details = get_df(instruments_url + '/' + str(ttf_otc_instrument['id']))\n",
        "ttf_otc_instrument\n",
        "ttf_otc_details"
      ],
      "metadata": {
        "id": "2xnncGURR7sV"
      },
      "execution_count": null,
      "outputs": []
    },
    {
      "cell_type": "markdown",
      "source": [
        "### Using Commingled Markets\n",
        "Suppose you want data for multiple TTF instruments (eg. TTF EEX, TTF ICE, etc). You _could_ search the list for all TTF instruments by name:"
      ],
      "metadata": {
        "id": "nIZgoPsFSBYo"
      }
    },
    {
      "cell_type": "code",
      "source": [
        "ttf_instruments = instruments[instruments['name'].apply(lambda n: 'TTF' in n)]\n",
        "ttf_instruments"
      ],
      "metadata": {
        "id": "OLxUMW-JQqfO"
      },
      "execution_count": null,
      "outputs": []
    },
    {
      "cell_type": "markdown",
      "source": [
        "However, the obvious problem with this is knowing which of these instruments can be safely grouped together - you probably don't want to include prices for the TTF USD instrument with the Euro-priced products, for example!\n",
        "\n",
        "The Reference Data API solves this problem by allowing you to query the 'Commingled' (aka 'All Venues') markets that you can see in Joule. For example, you may wish to use the 'TTF Hi Cal 51.6*' commingled column from Joule, which contains 18 comparable instruments:\n",
        "\n",
        "![TTF All Venues.png](data:image/png;base64,iVBORw0KGgoAAAANSUhEUgAAAS8AAAFYCAYAAAAC+XqhAAAAAXNSR0IArs4c6QAAAARnQU1BAACxjwv8YQUAAAAJcEhZcwAADsMAAA7DAcdvqGQAAAASdEVYdFNvZnR3YXJlAEdyZWVuc2hvdF5VCAUAAE++SURBVHhe7Z1fzGVXddjnOW9VqrQvRo1UqVUbIaCA/DAoUV9ajSseEpooUs1AyVMfePAogxIlzAQBig1qbWlM1JlxkaLKMRZ2as+MQkihNrGCkdyYGWI7GTUVThCBFCNDnO8bZyac7rX/rrX22n/O/fa937n3Lks/+Ttnn/3n7Hv379v7fPusOfH9H/zNpCiKsm2ovBRF2UpUXoqibCUqL0VRthKVl6IoW4nKS1GUrUTlpSjKVqLyUhRlK1F5KYqylai8FEXZSlReiqJsJSeu/a8bk6IoyrahMy9F2RHCoJbSdhGVl6LsCCovRVEWwdf/9NXpIw983gI/S9dguLxC3jng8pbOkeR1+SO/Nb3nPwh85KvVtO9/5fey8x/9Civ/5len0+b86ce/Fc994/HHzLWPTZdvmmNfRpbP8q3pCw/BtaFOk+crqZwitTKzNvt2xGu+5e/596Yv4HyEl6aPxn55bPooujd7v6ZvvkGuV7aB737v9em/ff656f+8+p14Dn6Gc5CGr52DyqvOmJlXx6AnaVXxeFrywtcSvESMCL5grzMi68pnqLTrCw9VxHQTS6kkL9+uh16yx7E80yb4+fRDv2fkZYQG1PpFWRz/9XeetQP/YxeuWGkB8DOcgzQpTw8qrzrbK69SGR1lf+NxIwpzDVxHZkDFvEmI+czIiMuX48osCc7dj9yuMFMEcXXMEJVFceNP/2L6tf/yu3bwg7SCuOAcpEl5SoCkAr//h9+IUoGfcZqUV5IXTp97vHR2Tl7N2ZktN6WTGVWxXUFQASyZl6bLD8Esr7FstGUbwcXlLJphfcW0CcRoZ3ClmZuyZLDAgFXEBYT8LaS8OvNahZqMpDR/LiLNaLy8yHWWuryqy7sILCW/apdoPWVCW0BeQaSyIOvycnlMul02wkwL1Stcr2wXeKkIhCWkdG0NLJIaUl6dea3CivISrw+sdeZlxGFmOPAQn0ikp12A0LaWvLKye+tSFg8WF8y48BJyrsDw0nDEsnEuuLyls3fPvLjc+paNjFXk5fPEsnvrUhbPw//9y3bgh6UiXkJCmpSnB5BUkEpJWBidea1CbSBKaT0Dd1V5BYlkf21017oyfD54xmR+bpbJ2iLP7gR5kfJ8ulk2whK5b3mrbAN/+Vffmx787B+QZ1zwM5yDNHztHEbIay64vKWzg/ICjCiK+7yCZIDHpo/662w5lTLJXyhhyUnEBbTkZcBbKsQyFCWhM686Y+SlDOcn/vE/nf7gy8+JaYoioTMvZRGAvH76p+9RgSndcHntOiqvhQLygv9UYEoveyevcMPKsvgHP/6TVl7w39ve8a+n//xbj4vXKcq+spiZFzRGOr+vhJlX+E9nYOPY1e9aGNRS2i6i8looXF7wnwpsDCqv3UDltVAkecF/KrCjo/LaDVReC6UkL/hPBXY0VF67gSwvv0HUbqZEpM2WkF7aHe42a8qbR8us3umwS57vdq8B7Ztz/WqEnfxZ3wHV/nPU5HXrzdtlgfmNsRExjE8Pq32OHLEMuH/TLnJug3R/1zo+p9mso0xPl7wW9v2o0RpDFXmxDrbnegb9huVlPoyPQiA/8p5hjfXLy776Q74U7jWk2CcdX+CavOC/11//m0xg7sOm5eZt6WXMlxPaxD8b6dwm2Vd5LfH7UaJnDPXLCw/6LD28IwgVGplsTF6hTfDaDfsAyG8Y3FYsL/cBQCelMo9I6csJ7fFtjH0F15kPiUjNt6UlL/jvO9/5aySw0gyUf8nQZ5W1s/Y51vJV8PeUPhvc/0ChXJ/vMnyJfTrpJ34taVO9rcPkZdOF9gGF7x9uV7x2EHV5QZ8s8PshUep3NobmzbzCl5ClwwCMv0n9h0Y+yA5WkhdqE5GA7cjUPvsbx4dfxoOHtHsUcP+xLgz68uD+M9fjvgs/98gL/nv11b+0AsMfLK2Xkn1WKE/tc8RptD9bMFnh75GhWK7to0Jb2fePH7faOkZe6POEY3Jt5ftXLfNoVOW12O+HAJQt5qdjaNYzL/nLQz+o3OR9rCIv6CTSmfGG2ReL4AbTadPGmHcg5Q8ODWLef75fIRR0aDOX1xtvHPqf3AN7TvkDx/DPCvdT7XPk/cmvrYM/J/KZ1crlgxwf19I62jpGXhxcD28DYlaZ82jKa6HfD07vGJq5bPSNxenCtWDh9cvLtYcKFrXDtiucxx3r8p22kVTbv4lm0/lbI/VZ+EBMOmoPlheI68d+7B9NV67+T3v8Mz/z76bf+dz/QGX7Mlv3k31W9MtQ/hyh7bifeZ82iG1D9dm0Srm8Pfi4ltbR1pHygj5K9fA2CfV3lLkqVXlBvUv9fnCOPvPKOzg2lqRDgfyGNyAvaAP7MIrShM6I16YPhM4CBsH77itfTR9+aAO7BtrB/+gQ5BXEBc+1/sW/fLc9B0tF+Dlc60AfLDmPPw/+WeE8tc+Rp80FyjL5s8+sUi7vR3xcS+to6xh5QT3o+1a7Fn//qmUejaq8bHuX+v1g8D4qjKEZ8kI3wtJBGnHgwQeFP9RO5srLDnheRzA2kZU/H4+h08MHgn8eh532xvqg39xvo+IX3R7TdoC8sLjg3L/5tz83feUrX7MCg5/57MvWyz43OzNAfZF9VrU01OZavh4kQQPFcsU+Csd4UOX33WrrEHnVPkNeZ+2+BlKX17K/H5yeMTTrmVdx8HkL2+s29NdG+5s8O+++1PCz/VBi23lbkSj8vaQyxuC+KKh+/2G7Dzj0V6gXjun9wHMsLK6zZ89O977/P04//g//iZXXyy//6fQTP/GT9ryi7CK/8Wu/Vh1DsryOgbny2ilAoI2HqfBhHt56czp16t9bccF/7/hXP23PKcou8olPfEIcCwGV1zHjZmjtpWuQ1//95l9M/+yfv3M6ffo/Tc9/7X9nH7ii7Aoqrx0hyEtR9oWmvEAayvJReSn7xkfP/YY4FgInbnznh9MSgMbceuXPFs83/uxbYkevG5WXsm988pOfFM8HVF4zUXkpymZQeQ1G5aUom0HlNRiVl6Jshqa8XiUS+fz0+okT0wS88zenmzjt+d+cDkOa4fVHURrm0Q/Ga6YTH5x6yy/K6/d/dfrRiV+YbpPzl6Y7oZy3/+r0Jk6z1/s0w52LKI3wxenO28N1b5/u/H5Ke/NX3h7zO1L9s+T10qenv0fl3HkKpz+V7uHuT0+3cD4hrSivw5enh0+fne46+RHCW97zwPTwpUey8zbt3DMm77PTmfekfPb6G7z8V7Kyz1xD6TeenO55DyqXlAHlo3xXb7nz15+Y7jn9xHTj0B8jrpw7O70lS4P7e2S6gq7bFFfOs/tlQHq4P8v5Z8Xr5vC06QNc5j2XXhGvO3au0e/WWz7w5HQDzmffCffZQV/RezHfrQ/U+3eGvF6cvvvOJKWbH3v3NN37eZ8G0nn39N3n/bVWZOg4YM8nYdEyauW/KMvr4i/4gY/l5aQTpGRF8/OXfBpIDYnIioyKKXD755HYoB4kQZJG+OIMeYGA7p5uv+SPrcjC8cvT7buTzG59+u5p+tBTPp+c1jXzMl+ot4gDCL4oXE4gF/PFEiQSATFm+TxQl/9i4nPuy8i+mFDOJd8u+HKHLzrjyvkHTJrwJT99uSmvG5dM3sED3corSJfg7u/URdrOC+eMeMl183n6XH1A50if7QYofdeKny9831I74fOSv6uJGfICQaGZEhYRzKaiaByv3luZfQWIzCrlmzQuLxCInRFd5DMvEBQ6xjMzkFAUmUMWESuDAHKUhQf5uuX11C8hITne/FCQEojtl6Y3Q5oVWziW09YmL3IdoyivVt5KelVeMHB5Xmi7OT6k13LWJa/7rubn11FXwPWBnCZS+wWzTmbLCwur47tn6JcXyIQs5UA2wuyqmZa4iWdXtfJNWveyEY7JUpHNtgiFNF/GHStIL8l4DeQJ5x1Rfibf6s+80EwMhESWiu20Y5PXaWFgFOtJwCCMSwlMU178t7KX1y0zA7IDFS1J/DVwPV2m8PvFx+6+H4Y6/EwA6g357zqd2ibJ6+BQ6ksO1JHKTKJ7drrPn5OX6SV5+c8qzJIPn5nOnDSzUfv5oKU/9AfvX3xsP7cnbR9Kyzw8k8Z9Iop6BXmFz+EMzLA75N8vL5hddcnLLf8OP/YiO4+wsyoY+Ch/rXyT1i0vtsQry8stL3/0K19k5w22TCqlKESbhstDMzFT92ryckvBv//0y+4YZmUleRXSuuR19bJ/nsXO2y/5/dPD1/ESiA6wt8BgwHks8GVDg+OkKcMMOD7zwPLAAy+cJ22Kz7zSdQF45mWXaba9oSxogyRZKhHaJi4YfOzuuzR48LJNlpcXSTyH+lEctOl6aCNdauYQkcb+9GVk8gp95T4Xm9aSF5YmvzYIqSogj7kWtzOKDPLi7xUvB+pole0ZPPOCcw1xEejsanMzLzd7EsUFdJWRiEtPk2++vEA+SFzAtsy8xHyGQj0wOPNZg5MS+XIXvrxk1hGvgzaggXuVDppw/Tx5sftmAy6UI8tL7pMDKBfdVxA3EIXhB7zURwHSBxHWZiwvfq+8f/Ex/9x8ezBOLFAfEpJE6btW+XzDfZwx91j65YEZ88wrHnc852KkZ2O18vNnXhEuLysaJrPsWHrOhTFlrCIvc90sednnVSYv+SsjAEJayjMvLwWJ0hLJDvZcfCV52cEWrq98ufnAheN7Lj1r2gAD1ZyD+4NZm3D9yvJi93L9YipHklc4nw8+U66/L2hL+hzyPoT8Ky0bw/FAebUEBUITRVPK2/h8XVnsfgrMkBddDt7kz6t6xFVdelbKL/21EcjkRZeD5K+NXeJykAf5kC/ILFuWQn2h/hl/bSyKC6DLSOmvjTxtbfIKMxoJ+4xJHmR2gLIvaZKXKRu3A5aK4cs6Q16ujUYm/q+NVAqQVpIXE4wVVLgPNnCgz2J7XpkumOVqyGfbI/610dV9H0kz53w55boTvL2BvA8A+PzQeXg8UJKX77NwTD4n/v0otI1Q+rzmyoudp5+lzAx5Bdn4B9VIQlY04TzCyozN0Oi18rLTphHJjdnnle/PcoQlXz6DC9fQ8mk5dEbWKy8rnVhGIsnMLSftebJMlNPW8sxLfM6FMQOD7fPCAw6+gDgNywyn2Wdloe7GPi8uixsX70cPkp00XJlu+REHtB2IMKNBkgzXmmXnmTjAoQwkLy8Ge50ZyPedozOvXCQBePhO+ybKzNR9yp/DdZM+kQa4oVinkUXMe96Uie4hlBtkgOu5x1wbpSEJB5Vrr4d7x31XkhvLJ/V7yu8+N3pf0jlKU15JLMdLUV4LY7UH9kenS16KskOovAaj8lKUzaDyGozKS1E2g8prMCovRdkMKq/BqLwUZTOovAaj8lKUzaDyGozKS1E2g8prMMuTV9qnhLH7a0rxvOxen7Rnyp4T9/PwDZAO2EcU9ufAz7XNhmRvE9lfJSHXZ+H7h3idNr2Q10P2PwkbRJVl0ZRXzyZVi99lHzZbFnfbwy77eB16Hciy3k2q6XqfZpB221c3s9pryuWvJC/y+s9qG1i7Zl6zX8z2r93gawmwSZXno/Iq46RKJHP4zPTwRfSOJ0dsp6e0ozvUQzai5rQkqyyPGfLar2CEBPJKUK38OcEIPRAlwt4Del+RQyJJuNeDgsiW+HpQl7yKbalRmXmZ8uqzpUrecK/ZeWXJzJAXCKrw4jTMpqJoHNsdjBDDhFcr36TNkRcEH5wgWsRTdOZFgVmWjygRjzf5YjY+x+iQF/wsSaX+ao1Lj0vA+LJ1WUA3LraWnxV5wZLSx7Fy+UuSU5ZEv7xAJsWXqjm1tMRNPLuqlW/SupeNcEyWclw+mFqag86sDLXyTdqIZSOGvpRtgGs3FhIHCUR6z9Eu49I1mLq8arOgHPtOoy2vL59dAmbvBlbymn7Bbbb9VHi3UFkO/fKqRoTA7EAwwoiQt1a+SRsrLz7rMmw0GGHPA/T6M69VZ16H1+kD+HvgWVjtmRdBantdXlRWuozcBgbPvODcDgQjDGSiMmxy5pWJyrDRmVePvHIh9MjLzo5Kz7zsXwZT3RA5wpVRERBhprygPpXX1jHmmVc87njOxVhmMEIHPA/LBVcrf2YwwkBBXvBMjERYtWz6mVftgf3q8nLlsy0JRiJn4JjMhEwdp8/OkpcsRp4XH8PPdKlbFKuyGGbIa7+CEbpy2svNI/+1ERDlBX9VZEvGeH7ZwQj75AU4aYSlIREWenh+5lx75iU/4MfwvPzYyZS2Q1kyM+QVZAPPqgxIQlY04TzCyozN0Oi18rLTphHJjdnnZUUTziOszLJy0HIwnsNpPj9bVo6Tl/C8i6T5+v0SskteirJDNOWVxHK8FOW1MFaS1wBUXsq+ofIajMpLUTaDymswKi9F2Qwqr8GovBRlM6i8BqPyUpTNoPIajMpLUTaDymswy5MX3UsV90JpPK8M3Jby3jQD7JdjbYV9ZqX9YbYPfFr+WpT7fMg59oaBIqPyGsyiZ17H8HpQGTdoaXueNUKtSKMmr+q9gVhGxPNyQuf/qCtw5fwD0z1i+SaPOV/8h129dIksi/eiYJry6tmkavG77MPGz3nhcBz5ZteUXpTXjE2q6fpUh7TbvrqZtVHGSvIqblL1dfD3G1fdpLqkYISrDNDai9mmvOpsqSa+LlFj8uufPnd2uu9cfk8Hps9PXXxiuu/0E9N1OAeyQjM06Cvyr1Ybmi+tK5YZ8hoQjDAArwnZwUflVY4BtqRghPUyZstLDEYoBxyspa1t5rWm14NaA1R+3acsIKgnXn9SElFFXiCUWfG8cnm5+4F/4j+dPwjvfl5zwrpufxHQdsCM7eEb7twFI+WYp1q/AsyQFwgKyQbPnEBGncEI4bx9LehRPvMCOZaEt6BghNUy5r3bWA5GKL987Y7ltPXICwlEEpmVV7oGU5fXvAG6vHheJXm9OV2/mO73AML6QH+H2ZbvP7jWXZN+QTx9zuW3eap1K4F+eYGsii9Vc2ppnmzZCHlgMCei/My13ctGOC6FrInnetIcdOYmgcsYFFUCjoWwN/Y9x0LasTzzssu4XAgjZl7hWVCQoSujV3pS2+vyorJq3XtZXgfXn4jyiffo5eVmXobwOdgZn/88/LmDq6XPSOH0y6saEQLTEYwQ4PKyx7g8NBNbUjBCAivDtGWIvAoBB628diQYoZ0dlQYpCAAtv2w8r3UGIwwzo3hudXmln801oUwoPzzzsrj8D+O+8W244GdgoVylzOCZl5s9dQUjzGZeOXHpOXzmBeda4jJkIsTIZezVzKsghB55ufK3NZ5XXV7Q/jRbdLOxU0SOrm7610l37pQwk1VkxjzziselB+4Cc+Rl6u6Wl5UKk1l23HrO5ZCDERoqZQyRlxVS/lzLHctp65NXZZZzpGCEgJNGWBoSYaGH513xvMyMJS8Hw/PyYyfTcn5MQ1627JR+kM3svCDZOSjjrtOtupXADHlVggXOFRfA5ZUtS6G+kL6gYIS1MsxMbYy85ICDtbQueSnKDjFDXoBbFtoH6kg0VmThPCIs+cQZlnCelkOXpP3yAtySzpaDln0jghG29oCNkRcAMyxfPlkmymkqL2XfaMoryOO4KcprYawkrwGovJR9Q+U1GJWXomwGlddgVF6KshlUXoNReSnKZlB5DUblpSibQeU1mOXJK+2Zwmg8rxzclvLetHKbYZ9WaY+Y7YeY1tO3ft+XvwYIbcJ7ymy5Qr+5F77puV1D5TWYRc+8jmGHfRknVdqepcfzqre5O6ZXV99SSZXOQ7uhTt52lZfKazYqr055FdtSoy6v2mypmrdTJq02W6mcF66xbXsyves4Wl6XjEDZvam8jLx6Nqla/C77sGmzudte2rxaKaMorxmbVNP1qQ5pp3xrI2qenuofJy+3k96Vz//l7BU3qR5DMEI3uHKplAZmAMLgxGUVxPOCcDKVF7Ohnnj9SdNull6VFywpO+J5QZvvu5qfD7iwNlRMB6bNF0ybL1zF7zeOlpfpXxArWrJeOWf6SeUVBOJeDwpCsbvhhwYjrJchygtenGbyCK8HEdEMDUZYiwE2L55XDYj1FQIO0kgSTmqbCUaYnreIz6NAJsLzNKAur9osKGd2PK+L+PlSoJLX9AtuMxeB4xUnoev4HCXIjdyzFaPpc/P/UzGoYkffGqC8cA1unygvfz7+DPJqRt/YbmbIC+SCZINnTiOCEVbLyN9tPLZghKV3Hv21Y+TFXr6upa39xWx8jmHllQsBBlRdXnQAirAH8K6MXulJba/Li8pKvvcgJ3wOE9Oh7aY8iN8V7xPOxbA4HX1rsHmF+nDfkf49fGY6A7NOM0tVeWF5gay64nm10jxYfiK4jBlRJeC4GRKnJ81BZ24A5AFxJqL8TN1D5AVCMjOt2zbSKoCWjT5tESFx7DJuNXnB+eLzIyuuVLeN57VOeXnZtOQFbb7rXKHNBiw3JxhTTijX1EFnXn3yuu9qLqCivODY9BU8GlB5YXllUR9KgloxGCGBlWGu7ZZXFoOrJCgWSFBEyGvrw+fQTGzVqBIcO5tCy0YsrB0JRujKZ1sSrj8xnYGgg9DOGBrG1AHxvGYEI5TFyOWFj+FnKgRZrBCjnrYZwjbbGGTmZyyvsBSN15KYXnPkJZ8v9q/vo3s6+mnbGTzzgnNHDUYolzF25uVmT0cLRpiIS8/BMy8uqN0KRgg4aYSlYVq6pfP98bzQA34yiwrwvPzYybSc3+H+gYzUZhx/i8oGrkv9R2N6pboCob8wWFKYp2vyAkD+J1Vefc+84nHHXxkDkrwqZXTLy4qJySw7bj3nchSDETLSc7OBz7xK8rI/r/jMS1F2iBnyWnMwwloZZsnaLy+6HCTPrGaIq/hgPpuNwXWh/jX9tZHMttxfGzUYobLvzJAX4JZ09iHy4GCE1TJMer+8ALcstGUg0VT3b2XlSMtNBy2HXjNKXm6GFepoBypUeSn7RlNeRDjHSFFeC2OcvOah8lL2DZXXYFReirIZVF6DUXkpymZQeQ1G5aUom0HlNZjlyYvtS/JoPK8c3Jby3rRym2FfVmmPmO2Hwj6vjcfzQq9D5XvJ6Pcl9SPb9+c34dprwnlUbipvfai8BrPomdcxbFIt4wYJbY/G88KUNqlyec2L50X7kNThfwGQOq896a9FbbbXofab44d9nlKb14HKazAqr055FdtSQ67PYsqrzZaqeTtl0mqzHbhLj+cF4kHtw2XVxYPaXOuHlT7X1VB5DUblReXlBlculfpAcelxWRIHfVlAUE+2jCFU5GUHdF88r1abeTyvWK+Zwaxt5gX9C58tWrKV5MU/j1RWq004HX4uLa377m0ETXl9hkjkYHrfg9N0AvjsrekqSfPcvDW97cHbE82XuPqlOy5/BF1r86a0972Q8hXlNWOTqgV2yIe0LB+mUkYlbbi8/Os/Qzapzn4xG70vKH4hzcA8na7BZIOL5yuJRMDG84LoCr0vZkNkBTSQHZU6zcDHbeYicLj8tXheLhghvecDeCHb9Ln9P5FX6iu5b51YwjVAiDAhysufjz8XghHivOQYBJ7dM4ZLCfrDtQuXN/ezPQoz5PXGdPazSShWQk8eRLlYXridC4nxmSeplBIgxjvT2Zv+2IosHYvyiiLCEnKvB4VXgPLXg9K1ebibQKWMRtpQeUEECXt/WF6bDEZovqwQwZRciwCZCF9UGFDS4MLwQZRhn6ukgevK6BwYh9Jv/0reTFZSfpDTWTHKQwDuyaZ7EfB4XquExLHSls6L/ZvKLYXE4f2ejlttKqXDeVzmIuUFcuGzpHQMUjoBsnmhNvMCASJBYUB8TIZJdG9k8lopGCGnmFYro542Sl7wbqON4/UUn3kd4cXsVeRFrmMcQV5wvvhsxIor1b2t8bzuu2rKCeVCHesORgjHjXheOC89hv6haZRKm8n3aonyAlmRpSKbKeHrivJCy05haZhfG8o/6F82wjFZyoFsKu8oSjOvWhmNtLUvG8lL2gDIbPuCEbry2XMTM8BtbCwyEzJtg3heM+Qli5HnxcfwMxWC3E9HiOe14sxrbjDCsLQuxfPi1xOZQb+z5303Lj3ij1GbzXVYcrS/+u5tBP3ygpnRUeXFloLlmZhbor7tS2+4Y5OvW15Z1AdBXjaPn7kJUquW0Uhbu7x2Jhgh4KQRlob0H9rw58xgsvG8GsEIYRDGcsgsKlCTF+BkWs7vWDWeVx6MEJVhwDII0PLo+Wr/1uJ5sV9gRF6AnfWmdqWy8feBfW64v1j562TDM6+c/BmYm51FcXnWMfMqptXKaKQteualKJm0x5LJcI0Me+YVOYq8bF55KdktLysTJjOSTpH/AY5aGfW0tcvrKM+8FAWA2VFldrky6yq3wAx50aWc+NdGoCavbOkJZfprK+KCfP3ycn8NFIMR9iwpLZUyGmnrl5cGI1QUYIa8ALeksw/be/d5sWO6zystO/P9X44gs355ASAleKZlILLysglpWFxZOeUyamnrlxcAsy9fvwYjVPaUprysgBZAUV4LY7i8OlF5KfuGymswKi9F2Qwqr8GovBRlM6i8BrM8ebF9SWFvDmxG1HheBNyW8t60cpthm0Dpr222Hwr7vGovgodrgLQFodHv9l5ZX8K5UD/qq1Ld24DKazCLnnkVNxBKgwFvSizRllcZyMslo/G8MHTPFOQJZbf7ne+3Smm4HHdc7/PlovIajMqrU17FttSQ67OY8mqzpWreTpm02myFscZ4Xum4o9/xTAvXR85vNyqvwai86CCCnyWp8IHJgfSwXErLrbKAoJ54vdjuirxgQG9BPK903O53d427nn4G7vz8XxzLQ+U1mN2SFxJIUQjpGkwYRLK85MFXojVoOVBn/uypktf0C26z7ac5+T2hneSerRhNn2czodRXtXhesU2QP17X7neL/bzNclkoH8qG6+uz1WXTlFfPv5hNKP0L2RkvTt99J/vn/f0/+e82kNK0orxmblK1u+xjHTyfgFA+3ehKyxkur5GbVGe/mH15unKIrsswg0h4URrPAGR5sYEpcf0J8gC+9WI24fAZYcDW5UVlJc+MWm2O6UhU0rk5M69w/3Q2KN8L7vd0XU1QrfRlM0NeVDY34Z/nv/fzUS6WRz/oB3NbXja/uTYJCsT47um7z/tjK7J0LMorigjLpRIskImIvtojIJZfeh8S0GCEQI+84Hxx6UJmGebaufG85gYjJGIBZLlU22zAcnM/m3JCuSvKi8ooIN9LLq9aGZ7s3reHGfICuSApsRnWq/fCIDOyebRj5gV53/nB6XU88wLxMRlCmS79xUxe6w1GWCsf5Ci9DwloMEKgR16ufPZb3wykpcfzKrbZ/ExEYe6BLMuWIi/UXks269we+uVlhYOXimymhK+rygtmcJBPWDYScPmf7182wnHXy9cdMy8gExxaknriLMxcu/ZlIxzvRDBCwEkjLo2wsPx5WC7ZeF62DHnQAlfOo3j74mDkefmxE1M5f6DUZi4KuA71XyavVAYgSWot8vLnYvs7JLpU+uUFM6MB8rpplouHH3vR/FyTl0tz15ljU2a3vHoiR9g8fmYlzqAQvHx7jPOhmZipe+3yOkowQkXZITY78yJllOQF5SJxedYx86qneXj5AvEZmLl20TMvRdkhhj3zilTkBbMuvNwK4BkW/LVRmo11y8sKic+UyvIpP3z3zJGXqXvt8jrKMy9F2SFmyIsu5ayI+F8bgdrMi8BmXhVxwZK1X16VYIE9S0oOLz8rA+oL6RqMUFE2xQx5AW5JZ2dMvfu8ijKj8rIyDGUjQnq/vACQki+DiIbv0ULiKs2whPPFMgzrlxcAsy9fvwYjVPaUpryocI6PorwWxnB5daLyUvYNlddgVF6KshlUXoNZnrzovqS0v+cBjefFwG0R96bxOmJ75b6S7h32WJX3vSlzUHkNZtEzr9GbVGdslsxxUqXtWXg8L7LRFFPqK1d37Ist3s2+RFReg1F5dcqr2JYadXnVZzSVvF33apgtL0MUVq1+ZRVUXoNReVF5wc+SVMqvvjjIKyxRGGUBQD1p2VaaBRXkAVLqiOe1krwM9l6lIIXKkVB5DWa35IUEUhRCugZTl1dFJAJJdH35oM58eVbJa/oFtznNltA1AH/mFa9p9JXN1/pFoMxF5TUYnXmNmXlxUbgyeqUntb0uLyqrwr2vNPNy9Z453/FMTZlFU15H3qRaRHq3sVx+UV4zN6mmGF2AsCnVQzei0mtraSvJq3Mjai2tS14LCkZoZ0elwQyBCE+auv2xjee1zmCEmZTGySvdZ694lV5myEvYET80GGGt/DyelyWKCEtoTDDC2juP5bQVXg+aEXCwlra2mdeaghG68guxschMCAQ5M57XRUmMPC8+hp/pUlfsp9nyYudLy1FlJWbIC2ZF5dd+jhyMsFp+Hs8LBLK+YIS1gIO1tHkvZs8NOOiOj/Bi9uhl45HkBThpxGdFWFjo4XlXPK9zUjkYnpcfO5mW8xtAXuTZVsif8gbOXHP3QO9dOqesSr+8rHCOGBLHAjMsyMeWjbXyTVr3shGOO1++Ls+80LLTk2ZalTRT95BlIxwLYW9uv1RO65KXouwQ/fJadzDCWvlzokr0RI6weUA8hRmUTcdpaLZVSzN1D5FXIeCglZcGI1QUy2ZnXqSM45951dMoXc/ATN0681KUzTDsmVekIi+YdeHlVsDNxGrlz4hhb4XEZEbSKTUpYbrkZeoeIi8rpPy5ljuW01Reyr4xQ15uprS2YITV8gt/bQQyObm/Nh4pGGF2HZTp66ilmZ/HyEsOOFhLU3kp+8YMeQEwO/IzJrLEQ3B5FWXG5QWUy++XFwBS8uUQ0fA9WkhcrJzidY20MfICYIbl6yDLRDlN5aXsG015JbEcL0V5LYyV5DUAlZeyb6i8BrM8ebm9RXgPEmD3KGk8LwJui7gXK9vnFdor95V07/BaVHGf1zX6ecS8rN6Ybvej5Z9v6PtdR+U1mEXPvEZvUu2QVxk36Gh79jieF6SxMmyb2PX5O6GVPtlxVF6DUXl1yqvYlhqVgWrKq+9crw3ynns1zJaXIQqrVb+cxmWl8kqovAaj8qLygp8lqbSiSkA6XR7B+fJAhXri9WK7K4McpHSc8byK5eb9p/JKqLwGs1vyQgIpCiFdg6nLa96ASwO2Lx/UmS/PKnlNv+A2p9kSugYAyeA+idc0+srmq/wiKH4ueZosL1z3/ohM5TUYnXk5edTlJQ1CBhOFK6NPXnLb6/Kisirc+0ozL1dvNZ5XZeYFbdOZl4zKazAqrz552dlRbTCjulMZvQN1prwyeYyTV7rPWtshv5zGZaXySjTlRTeXuo2lbnOm8F5jBt2IanfNh82ViHJ62txalNfMTap2h3wsn+fDuJ367jq+C79c/nB5dW5g7ZLXgoIRuvLZtoHrT0xnIOggtPP0E14SUMfZWcEIIXhhLkY+yPEx/JykUBTrbHmx89kML2HrZGWAqPj1Kq9EU154pzvE7Io74rMoEDlBRnQXPYKVQcpniPKKIsISctIJ7yGS14OkXfQ9wQjJK0GV8ld9PajEjECFa5t5rS0YIeCkEZ/XxIGazsMznK54XmZQx3JOS4LgefmxkyltB8POCFE9cbaU8gZWiudlPh9chvRZqbwSTXmlyBHw6k7PO4seeC0oCziIgfLw7A1maeXZHJcXyMXOiNYSjJCVUUsjZaz4YrbA3ECFXfJSlB2iX15WRr85fddGTAVqy8YgIun9RcfN7MVu9F6jB+frXjbCMVnKgWz4ss9RnHn5Mu5YQQIof618k7b2ZSMca0gcRelYNmJ5YaF4mUnLRhCTGHAwwmddBls+PkdnYt3yyqI+CPKyeZiUMD49LhuxsGrlm7S1y0uDESqKpSmvKJBMVoKAAHJdQV4dz8sA/AxsHTOvYlqtjEaazrwUZTN0LBvDcy4jqw552eWgndVQQpwuAKSEj0usJC8rEyYzkk6RgwyaMooCrJU/7plXhMtLn3kpiqW9bETPpchfAyvLxoQ086LLwUg2G4PrVtkq4f4aeKRghAYiNagj5quUP/qvjUAmLw1GqChAU15UTjDbCrMp9JdH+7xK+kukJK/CctNwk8za6DX98gJASr4cIisvm1gHEldWDipjRvnrlxcAsy9fvwYjVPaUprywXI6TorwWxnB5dVKWl9tbhPcP2T1EsEdJ43kRcFvEvVjZPi/X3tY9KutB5TWY5ckLcQyvB5VxUqXt2dZ4XspxoPIajMqrU17FttSoy6u8kx+o5O26V4PKa1GovAaj8qLygp8lqeSvuVDI6z7ktSFZQFAPX87RayryAikdIZ4Xvkf3s5lBhrJUdmtD5TWY3ZIXEkhRCOkaTF1eFZEIJNH15YM6c2lU8pp+wW22/SRJhz/z8tdweSX5uf6pSVpZHZXXYHTm5QZwXV7tmRcXhSujT15y2+vyorIq3Hv3zCvdb+n+laOj8hqMyqtPXnC++MzLiivVncpYk7wyKam8tgGV12BUXm7AtuTlymdbEowczsAxmQlBHfNmXlBnfp88Lz52deA2i/2k8loUTXnRjadu06nbuClvNKXkm1TpRlQAb25Fm2DZ7v2ivGZuUrW77ENalg+zgWCEdgNqqCPF6HLkG1FraV3yWlQwQsBJIz5DggCEED/MtuesO/ceUxbE82oEIyQP+GMgQ0xNXoCTqc0vCMqi8loUTXkVgwWuGIyQlEGgorN50atJoryiiLCEtiUYoXuh+vZL/tiKLBzLAQddviMEI1SUHaIpr/QqD8yKpFeACth3H3kwQhBUacbGymevHHF5bX0wQghtE4XkgACETkryy9fuWE5TeSn7Rr+8/IvYRwtGCIIK+R0xLXvRG65NdXQvG+GYLOVANvLL18WZly9js8EI0UwMhCSEvamlqbyUfaO9bMTyqsomcdMs+cRghLYMLD00E8uWoSvKqydyhM3DpITx6WJUiVr5Jm01edFIEaWAg1ZeGoxQUSxNea0lGCEiPgNrlL+OmVcxrVZGI22+vEA+SFyAzrwUpUnHsjE8dzIy6ZAXzLrwsjBQCj6YHuBDef3PvCJcXlYmTGYknXKswQjt86r08D0BQtJnXopSo71sHBmMsBpw0F0bJHez56+NQCanLQlGWBQXQJeR0l8bNRihsu805UXlBLOjMJsqz5IS+bLRSimWwWduqHwmxn55ASAlXw6RlZdNSMPiyspBZcwov1deVjqx/ESSmVtO2vNkmSinFeWF9kxhqvG87F6wZ6czJ1O+Yjyvjn1exZ30BkiPdZyEfWX5Hq5IZZ+X3YOF3zs8x+q06dI9JHBbxL1Z0j6va6kPcR/hsmxapQ+U1WjKK4nleCnKa2Gs9sD+6HTNvI5hh30ZyMsH9XbF84KNsXRDq6nrkisDytPNqetF5TUYlVenvIptqVGXV10Wlbxd92rA8pJmYQiV1/pReQ1G5UXlVRrEragS5HWfKImygKCeeL3Y7oq8QEQz43m15KTyWj8qr8HslryQQIpCSNdg6vKqiEQgia4vH9SZv59YyWv6BbfZ9pM0q0LyaskXyxRQkY1H5TUYnXm5gVuXV3vwW1EsOJ5X6b4CrXTl6Ki8BqPy6pMXnC8+87LiSnWnMtYkLyQld64tr+LszKPyWj8qr8GovPrk5crf5nheLg+9ztyTP1Z5rR+V12BUXr3yApwAwtKQC8uee48p63x75iU/4MfwvPzYybSc35DN0Fi9bLYYzlfLVFamKS+88ZRuMAWkjakGu2m1dE15I+omNqnaXfYhLcuHsOWWrjv6JlUCef0nMGiTqqLsKE15YYmUAwlinIDCdVZ4sQy6496mxVeAamkFeUURYbmMCEbo5ETKYK8HieXPeT0oAFEi7D1geWkwQkVp0ZRXevka5CJEkeBUo0PAz6XXimppubzWGowQzpMZFZQ5/sVsCD44QbSIp/jMS3752h3LaSovZd+YIS+QCwy2hDgLq8lr1TRz3L1srIqHUpx51cpopA1ZNsKxEPZGQ+IoSqK9bMRyQTIpz8Sc5MjyL+SrBRxcUjBCm4ctDcO1tfJN2hB5aTBCRWnSlFdtqVh8BmZF52Znhx/7fJLcwmZe1bQoOAh/Y657u7+uVr5J05mXomyGjmUj/2thov8Bfs9zrVraDHlZmTCZkXSKHIyQg8uslT8zGGGAy8sKKX+u5Y7lNJWXsm+0l43hL37VQIIYOmO6KfxFUQ44WEubI68RwQjpef4XxSHBCDGZvAYGI4QYWGgvVdx3BC8fl+J52b1gad+TPSe9rGzLzs/zfV7y3rKUnupYbV+ZBfZg4fbyOm16Ia8Ht0Xcmybs84K9c7FOVH62z6vSBz1tU3Ka8kqyCs+vwgN7tJxksyQrunAdER4Acpuf1i8vAOTjyyGyCs+vfBoWFy8nbsPIy6iVP0ZeAMywfB1kmSindc285v6jsxAcEF+XYWTSCEZYBkTEBvXhM9PD8I/LkusQtWCE1Q24pp4Fx/Oy/XW+1H6lRFNeSSzHS1FeC2MleQ2gS17HsMO+SLEtNeT6LKa8uiwqebvu1YDlJc3CEP3ygnZB3Z1tUCIqr8GovKi8SoO4FVVCft2nLCCoJ14vtrsiLxDRccXzsnW7z4T3iTuGz0FaeqbzQKrL3+c1U65P75Po9qHyGsxuySsNDo3nZUDyaskXyxQoCYSUwz4fSEv9Dp9HaL/7bFL97nNIfWTyhfZDm3d0RqfyGozOvNzADQOrNANpDX436PjgrwiIILW9kjeTVeHeh8+8eD30mPdRPEaztUj8bPl99vbZ9qHyGozKq09ecF5ui4HNFlIZvQNxpryQlNy5trxy4VG65GXKwLOzQOg7lVcdlddgVF598nLls+WUGZT7FM9LnH2iey/Ky/ddSsPtr93nbqHyGozKq1degBt0YcbBhWXPvceUtZPxvEr9C+ddu8ryMkBbsmU1pLXuc3dQeQ1m0fJSlB2iKa/PIIFc/dKd6cSDE+L2hNPlaxzveyFcczC9L5z/7K3pKslfTivK64XXprsf/OH0FDn/7elDoZzLr00v4bRnfhjbdCLLh7Dllq4rl79Zef3d9KnfnqYPvazyUvaPprywRD7zJJZQJy/cRiJ6Yzr72VSGFd2TB/7aWlpBXlFEWC7fnD592QzoZ9zxS1dvTSce+7ZLY6IjaQQnJ1JGlFSlfJO2SXn9yR/9yN6/ykvZR5ryet+Dd6azN4Ncws+9wEwK54FjNFu7eWt6WzyupeXyeuoxkNat6dPP8JkXiAcdizOzRhqcJzMqKNPU9UL4uVT+tzcnr7+6M939238/fUhnXsqeMkNeaEnnac3C+OzJCoksB5HcamnmuHvZWBUPpTjzqpXRSNuMvGC5+KPpU3+ly0Zlf2kvG7FcyCyqNROj8rGQJSS7ppZmjrvlBUvJlrxsHj9zE6Tm8rClYbi2Vr5J24S8YLl49x/9nflZ5aXsL0151QRVfQaWyciwsJlXNS0Kbpruvvrt6dOX/XW18k3a2uVll4t3pj+xxyovZX/pWDai51CMmrwg7W1feoOdByGVnmvV0mbIy8qEyYykU+DZWZhhlcFl1spf/zOv8JCeU5LXgd3nk/YDBUbE83Jl5+evs31e8t6ylJ7qWG1fGXDA9j1lddr0+n4n3BZxb5qwzwv2zsU6UfnZPq9KH/S0bR3wNqY9ZUfcG1bcTziW9rIxPLPKZlKwbESyIZSWlO4vikFq0l8b5bQ58nJ/Dbz76jftMXmu1bOkFM7zvygWy9/wXxtnz7xW2KT6NLmOAvK6IHzJYVDgzZUyTqq0Pc8aodZ2pVcGVfXeTD0azyuDtNEKNPzyqPRzD0uRF172WaHE3/ZITmyWxJd8FEjzZfBlZSWtX14AyMeXQ2QVnl/5NCwuXk7chpGXUSt/yfI6gFmC8KUKErqAvqwHHfKCLznPB3TJa4UvuNTOiCmvLovagCztdmdgeUmzMES/vKBdUHdnGwZC24j7Z0fklcRyvBTltTA2K6/EumZeqyzjsLxKg5i/+sIhr91ESZQHFdQTrxfbXRmQIKI9jOdF2ki+G7yvSnXRtNhvuCzzM6S1Z+LzUXkNZrfklb6wGs/LgOTVki+0AfdHSSCkHPb5QNo643nhNlJh475q15XSPOE+KnWPQOU1GJ15uUERvtCyvNqD333x+eCX68uR2l7Jm8mqcO9IXqX7CrTSHbweesz7KB5DO/jnGD9bfp/l+6ZthOuwlHyeWl2oP7J0k3/dQRCb8gJpKMtn2+QF5+W2GKy4Ut2pjPJApMyUVzYI2/LKhUcp3TfBlBHkjAl9t1l5Ffq5Vlfp+2T7xpS15r+gfvTcb4hjIXDiD//8O9MSgMZ894UXFw/MvL79/17bONsmL1c+W06ZgaLxvNK9F+Xl+y6l4fbX7pNC21gqo1YXT/OE7xn01xoF9vGPf0IcCwGV10xUXm5QhC90fRC7gRBmHFxY9pz58ms8Lwc5tmJI5VMJ1e4zwdtYLKNYF00TH9j79PJ3YHVUXoNZtLwUZYdQeQ1G5aUom6Epr08Ribw+vTdsznzkjekxnPbcYdrU+eDhRPMJfP2N6af4dfZcKGOa3vtcSivK63d/ebpz4uemH5DzF6bD8C9Kv/WXp9dw2kM/585beD6BmeWvJK+vfWK6feL09H1y/nOpjnd9YvrrRprKS9k3ZsjrtenDjyShPPaF29OJx193aUxEJE0iig7LC8R4e/rw1/2xLTMdi/KKIsJyeXp6460npsOH3PFrZ946TT97waUxEZE0ibnlm7TZ8nrstK8Dy+uF6YfvMnU85o7/+uPvmqb3f66apvJS9o2qvP78D7G8QC5INtLMqSPtU4+bcQpSeo5dA0JjwoNrnSxfy+T1g5+FAf/W6Y2H+MwIZkXoWJw5tdNWK//CLHl9//1Qx7umHz7GZ14ws0LHZGYmp6m8lH2jf+YFQiJLRTZTQjRnXkBNfhZc/uv9y0Y4Jks5kI2R0O+G40Rz5gXMKd+kDVk2wjFZKoKwjOS+Vk5TeSn7Rr+8YGbUkpcVkp9ZCVIjVOXllqg/9YXX3LG5tltesNRrycvm8TMrQWqEOeWbtCHygqVkSV6FtKK8Dl+eHj59Nv6ZO2D/rF0KiXMO/sydtg7YcyfvF/7cDn9SN+ev3yLn+VYJeXtGSk91XJ6uHNKyCPZe8vos8Cf5k+k+szrtn+zlLQMB3BbxT/umjFOn6ZaHg6upD6FPL1x35/k2hLtsn6Z8FrTNwOZHbYb8K28vOHxmOtPqyx1gLTOvepqnKC/Ii8TlWcfMq57mmVO+SVv0zOsY9nmVgbxcMkcIiXP1cuXeTD2DQuJgedk9XkRmr0wXLroyuuQD8vrAk9P1Qzh27ezbH9dA5WVZ7ZmXIT2vKiDlt+fkfN3ysjJhsiHpFHi2FR6+i8wqf94zrwiXlxVS/lzLHctp65NXbSYky6RLXsW21KjJazMhcaK8iHhy5suL5jmSvOB+VF5YXnQpR55r9SwpOVxeFXFB+f3ycn8NvHPmaXtMnmv1LCk5c8pf5a+NQCYv9xfF2x9/wR5Lf23kaWuTV2sZ15BXaRDy3eMcsnP99BN+dlMWENQTr4eBy9Kr8gKJdIbECfJqyQXST13sk9cN08chfhreoY/LJ/3BduvjNJfHy8umQ7kmz+xfFMunKq8Xr2J5AW5JZ7c5sH1eVmYhDYurNENj52n+RJBZv7wAkBI80zIQWXnZhDQsLrGc0vly+WPkBcAMy9dBlolyWpe8YGl17pn8vPgsCQYAeoYkzkyMEITnaUBdXrVZUM6Vc2enM1dN22rPvBA3Lt1vhEcHeLVOI3XcZit5JggLkldLvlimgCgykBd65nXq4ssxDffb0+b+70KfG6QFGeGfE0GEcM/1dm4zzZkXEc4xUpTXwlhJXgNY6jMvPAgxrcHPB7Yro1d6Utvr8qKyKtx7mCmZn0v3FWilW1B5cIxFlPJDu3lbsJyke4J0k3+HxQWovAaj8nIDryUvPFAzrLhS3XQgr0FeTCI98irOzjyl+ybwetExvWfeltC+0mcE5528mm3YYlReg1F5uYHXkpcrnw0uM3j3KSQOlxeuF+eHWSquB1/H0xzhs3NtbLZjS1F5DUbl5QZXW16AG1xhaciFZc+ZGcRuhsQxQHloaYyvof1W6qc8zeXBn51LL97TFqPyGsyi5aUoO4TKazAqL0XZDCqvwai8FGUzqLwGo/JSlM3QlFfvJtUUowsovzYUkTav+l32fIMqUJTXzE2kKUYXIGxKDdhyw3XsFaJK2kry2tQmVUXZIWbIa5+CEbLXhmy+cFxLW0FeGoxQUVZihrxmvJhdSduKYIQgRSa1+AJ3LW3mu40ajFBRVqdfXiCkzpevmzMvoCY/Cy7/GIMRWspl0LRBUSXgWAh7s1JIHPvydNoHFKjG87J7wdK+J3tOiudl3zVs7/OS95al9FjHivvKLDeeWHQ8L7EP+D4vf/8H1829mPOhDwMHVy9Pp0K7WF7gHvRuJADvhJJ0yGvzsX5uvC2wVPrl1RM5wgrJz6wEqRGq8lpQMEIWRaKaZsodIq+RwQgxc1/M7pJJ/qI0llcZv3kSD+rDZ6aH2QAk1F7MhgEo3VvcpLn0eF4JKy/TVpDM0zjN3OM94QVvnzfWbfvmLOmD+EJ7uMZD7xU+57rUl8paZl71NE9RXpB3KcEIIb0kLjltcTMvzDHssC9SbEsNuT6LEXNdFpW8XfdqwPIqiCdwdHk9OV3hZVh5eblzeQFM7iV5YWF1tXOhrOeZl2HrgxHafPPThsjLCil/ruWO5bT1yUv68ns6ghGWBgfMWmqCI6/d9MTzuthaflbkBSJYQzyv1eUVxMRmRS15GXC9Vl6lPrbfBTMb7ZH2Qpkhrz0KRriiuKD8MfJaSjBCJBDpSw6/6YXnaUBdXhWRCKRB2JfvxsX7hWc4lbymX3CbbT8JYsDyaskX7hv3hygyEBDuY19nkhc850JtsfLy5fTIC/0CAGh7oT/q97B0ZsgLcEs6u82B7fOiwQSRuEozNHae5k8EmfXLC3BLOrsFge3z6glGSK9JgLBqaVDOGHkBMMPy5ZNlopy2lmdeYkRSjBkAwjMoGEBhUMjyag/+Q//QOgw8O+OoPfMiQAx3Ltu6vKiswqwTXQMgeZXuK9BKtxQExM9DMML7zPIPRBbLrMgr9Gutj237zMwre3i/RTTlRYRzjBTltTBWktcAlvrMqzSI4XzxmRcMTFR3KqMiIILU9kreTARlecXrSrMzT+m+CQUBZedDf8DMqyovaHe6x6K8Qnnm5652LhSV12BUXm5AtOTlymfLKTOo9jmeV+28Lc+0N5aZXZP3Z0le9DwV3jah8hqMyssNtLa8ACeAsDTkwrLnzMDam3heQSKi1JicWF6Aiwq3DYDPHtrF2yKd2wZUXoNZtLwUZYdQeQ1G5aUom0HlNRiVl6JsBpXXYFReirIZVF6DUXkpymZoyusVIpFHp++FzZHv+Nj0xzjtkXvjhs3pxL0TzYcpl/HHv/5OVAYtpyivmZtU7S77WH75taGwkz5ci3fU5xtVUznD5BXjfAFsA6vd1Jrqh9heKi9l35ghr+enV99xYvreI0g0v/ioS/vyx6a/RaIhaYRKGYZXfjGlUZ6X5RVFhCW07mCElfchZ8bzKsJ23NPXg9yL2PYl7Xht54vZirJDzJAXzJjQjIoJi1BMq5UBYnvn9OqXw7WYRzN5HVswQitH4X1Iy4X1LBuxzGBGFkXmgKCGRXkV3j+cHc8Lruev5diy8V4pB9/nJe8tS+mpjtX2lVngfUDcXl6n3RdVyOvBbRH3ppkycEgcYD3xvNz5bIMp32HP9nnxNh85npc5j/PHawrtzq6vfO4j6JcXiIYs80BEsmyKM69qGWg56YmzMJOve9kIx50hccozLw4uAy1JPXEWZupeh7zozIvjZmJdM6/Rm1Ttu4Z1eZWBOvkX/FkjVEEakYq8rhXe2wz1bG08r/QLIwtGSITj73NkPK/S9yWr28Ouh/5p9sER6JcXPNNqycvOpGBAF2ZQtTJsXpwPzcRMvm559USOsHmgnaUZFCYPOIiXkGQmtmpUiRLx2RZaJhJShIkueS0pGGFRpBVqL2ab8ngkUUpFfF33asDyKogncHR5uXhep0IUCcDeY0leBtY/R47ndUR5rfQZz2AtM69i2qwy0DOwNc286mmAm2XJwQgTcUlp6l7LspE/54rnUmicY5l5FYSA5VUaHPBbuSY48tpNVzyv+9P1Yrsr8oLBuKh4Xk5eK8XzMv0QrinLy2C/C414XqXvy9bJy4qm85mXQX74vmoZ+TOvCJeXFQ6TGUmnrBSMkJHKWNMzLwM81wr/YlCYkcVjw3rkhQQCX3K0hLHYYITpGkxdXhWRCMyO52XqzJ/hVPKafsFttv0kDU4kr5Z8oQ24P0SRgQRwH/s6D1A8L9IW83NXMEIkL9wG2l732dXuIfRLIH53Cu22bY3fr47yj8gMebm/FP7trz9vj8lzrZ4lpWVOGXBtepjfL681ByPMyoD6Qv2D/tpYi2EviAtY28yLCwvT+cB+lZkXHyCujD55QSz8fEZRlxeVVWHWieRVuq8ApJMln0QQEOtjIi9D7CsrL19mRV6hX2t9bNvfiudV+r4U6obrw+eVPjN2zUBmyAsAKfkH1UQ0XkQhDYsrm12tUIahX16AW+7Zcoho+B4tJC5UDr0mEWRWLMMwauZlH9LHOtKSkZ5PrOWZ1xqDEcJ5WaQGWDahuuNSqPbMizAzGGE2GNvyyoVHKd03oSQBdh6WkadMfzzdDEYI7U73WJQX5PX3V23nCvIqfqZroCmvII/jpiivhbGuZWOLbXvm5cpnv53NoNB4XvJ5W55pbywzuybvz5K86HkqPILKawwqrzrbJy/ACSAsM7iw7DkzsDSeF8DkxPICXFS4bQB89tAu3hbpnMV8X0j+cH8qr3movOp0yUtRdgiV12BUXoqyGVReg1F5KcpmUHkNRuWlKJtB5TUYlZeibAaV12BUXoqyGZry6t2kanfIx02T5Vd+qmVU0orymrlJ1e6QD2mV14bCLvtwLd5tn29iTeUMk1d8KdvXz3bUO9yL2RqMUNlHZsjLvdoT3lckr/awXfQkjVApo5EmyiuKCEvIvR5EdsNvWzDCQsBBHlki7Lavysu+wkP3+7g9Ow/Mj+fF91d1vh5U2/uD90PJL1Rjyvu8sj1TvE6bXsjrwW2R9qa5ne75fqqDa2nn+wGLK1YqK/QvLwunhfzFF8WFay3n+VsU9Bq5zu1jhrxgVoRmVLWXqotptTLqaVxeIJCdDUZYCDhIZl8gtHedng7nzLxGb1LtkFcZqJNL5gjxvK7W7s3UMyye1wNGTqxfuLzIBk7pPn0eeLcQrsUxuw6daIjwquLNP6enz5+d7vrAE9N1U+7BLffLK30epj2XGve5JfTLC2RClnIgGzmcTXHmVSujkda9bITjzpA45ZkXB5eBlqSeOAszda/nmRcPiQPLRTieuWxch7xWDUZYbEuNiryuXU4RF0QqeXvuFbDycnG2iFyIvEI4G5TP1n1/jLIKXDkPbcnb9PS5wkyt2F9y20Fg910z8hJfUt8N+uXVEznCzpZgQMtSq5bRSOuWV0/kCJvHz9zEGRSGRqlweXE+NBMzdY+XVwo4GM7BctEdz5TXMQQjhJ+lwVh67y5wxQzisMyx8bxgdiK20wH1xOvFdlfkBTObWfG8oG/QNU15vTldh5fLYz+Y/P4a2j+vTBeEXwYWaCO8nM3PFz6nAyPzsHwEkRVfedpi1jLzKqYtbOZVTwPcLOv4ghHSgIMWu1wM4XLWPfNCAoEBkkUNhXzpGkxdXhWRCCwxnle4xgYS7JAXtCmEyCF9AlKK1z873XdSbiPMoO4TpdyWFwB1wj3On+0ul/U88zLMD0ZYT+uWlxUOkxlJpxQfvtt8hTRGKmPQMy+gELfrSCFxZssLBkU+y4nYYIT5YIOBctSZlx3USJ6ujF7pSQO6Li8qK1kIRF4GuIf7rpqfibywjBK2T67CMyjeDnxcnnkdlNpUkdepS/kyGtq8KwKbIa85gQTRrCmeAyplNNL65UWXeeS5Vs+SEqiJKysD6gv1j/ynz3Jx5WzgmdeaghHC+eIgsuJKA9LG85ojr7nBCMnsB+iTl80HS7mmvKA8/y8L2Xujs9Qk5zHPvA7M53LhA+6ZF70WKNzbFjJDXgBIyf+2J7LysglpWFzZDK1cRi2tX16AW+7Zcoho+B4tJC5UDr0mEWRWLMMwQl6l2VUuszU/81pjMEI3iNhANUuuM/DQHdqJ49afPjsrGOGNS/eb++QDncsLH8PPdKkrioLLywDXnjJtOhX+WMBEaJd7J8/KS8aAFZoTipWf6Rc8K4V/Neiuk/DAv0dG7l5S+006vhdUVzy3pTTllcRyvBTltTDGP7DvY33LRnyOI+VzA7QtL8ANtDD7SEu3dB4eni85nlcmYSuH1BYgiajUfne/6brUlkBxlipcy/sbPoNYTnHLxfah8hrMouWlbC1BzmWJ7R8qr8GovBRlM6i8BqPyUpTNoPIajMpLUTaDymswKi9F2Qwqr8GovBRlM6i8BqPyUpTN0JRX7yZVu8s+bqjEm1I5x7tJ1e6QD2mV14bCLvtwLd5tn29iTeUMl5fdbX96+j457955tHX79xyL8rIbO8/GfT5kv08pnpfdyAr7h1I+eX/QK/LmVrTvKO45usb+DUBpL5XQVrv3yZ/PN9iauj4AL23Dz26vFM7L68D7nWy63XbA91gBcA/S/cK7h6yOzq0LeOd889UopYsZ8qoEC2S76OmrPZh6wMFamiivKCIsIfd6ENkNv3XBCD0Q18veH5ZX2lUPx3Y3/vs/1zfzWvfrQdcuT29hLxbfuPSk2+harBsjtcPg67lHkgwIyrYxzwuy4v8QLN/AaWG7zkEu0nVutzzduAsvjd9V2tRaQOU1hhnygllR6cVpRjGtVkY9jcsLBLKzwQgNEHxwghhej/GZF8y60LGfma1NXuQ6BpGXL6P06s4AeT18je9w9/Ky18j1Y2EV5WWIwhJ30Qdg5pX3yVwZqbzG0C8vkAlZyoFspJevKzOvWhmNtO5lIxx3hsQpz7w4uAy0JPXEWZipe+3LRjiOIXEAF6jw2OQVoiBUB71hhLzMeTorQvKCiKGwhOV5Ubtq8gr3e6YqFlle+N5geRiXlKg/oN02AoX/Geqg9+LLMXlsmJ1wTinSL6+eyBF2tgQDWpZaK+BgLa1bXj2RI2weaGdpBoWhUSpcXpwPzcRM3WuXFywlV5XX7GCEaCCKL2mDbHy+UtkBMzBDWbY8SWS2HcJzNtw+iBhxEn6GPFhepi0d8sJt4CKD9Lpg2/LC4BkWSC38HM/7tgVZ4euVNmuZeRXTFjbzqqcBbpZ1fMEIDUueeeF8QRKlZ2TFujHtmZc9jmUheYVrUKhlC7TL11udedn2Q5z7mkDK8grl2mCEwh8sQEx85hXu14WH7ulvBbOeZ14GDUY4CC6vjT/zKsgIIMEI4XqQxwbkZa8DAQR5wYzM52X1gyiCQMryCuWZn9FMLb8ul9eBrTflPYXScX1WWFdd28gMy/SLDZeDBKj0MUNelWCBPUtKSz3gYC2tX150mUeea/UsKYGauLIyoL5Q/+C/NgKZvNxfG0No6CX9tdEuu9jy8sp5P5iHystgJWPkEGd7eV6QBH7uVJQXaxsWHoXLy9QJy9yQ15RzV4z3BVFRWzMvwPTz6SemC/Yf5AjnlB5myAsAKfkH1URWXjYhDYsrm6GVy6il9csLcMs9Ww4RDd+jhcSFyqHXJILMimUY1i8vAGZfvv7WPi/MJoIRwgBGz5XwDAOfF/+RDNsOus/LDn6xfV5OOGihmQHhvFyWIC+SDmIDCfI9XdI5C8iL1oElF2ZhtmyT/8z5FKSQP/MKIgvHd9WeFyoiTXklsRwvRXktjOHy6qRLXsoioTMxpReV12BUXsos7CxPmIUqTVReg1F5Kb3YZa+4PFV6UHkNRuWlKJtB5TUYlZeibAaV12BUXoqyGVReg1F5KcpmUHkNZnnyyvc/hX1IxXhedn8UbFJF58QHy1A2P0/zxX1QfJ+XuIs9b6vbQuDO55tcTV2xnDwvryPb52XLc/noVgW4B3mfF/83EvM2ycDDebxhdc7WiP527xdNeX2KSOT16b0PTtMJ4JE3psdw2tffmH4qpBne+xxKK153OIXyH/vC7ZgXE8opymvmJlW7Qz6kVV4bCrvsw7V4t32+iTWVM05ebie9K/9d0w+/ltLyf1G78/Wg2S9mX56uVCMcmAGE80H5bNDPiudV2Iwazt9z+mx8xcYB8sLBCHndY+N5uT6h2xrsXwxFEZdZRV5ye/abGfJ6bfrwI0kmVjaPv+7TQGq3pw9/3V9rBYWOI05+pAwuwcBzhyRNlFcUEZaQez2I7IbfwmCEEM8r/vP+LJIESfN0yasokHzgx4Ha/XoQlAHiYdcEeuQltsMQ6inF8yq8HgTggV+TQBSWfe2oJKNcXsBcGam8xjBDXiCeNFNygvLHIJooMsenHhdmX5CHyIpJr3j+tUxeIJDdDUbIXr4mwIyMzsSAtcmLXMfA8gqDfs1RJaJkbJqXl73G5+WzNiSjugTc/bbieYl9gu4N2heXd0iCWFjhZ3ovvhxBnHK7cV/5dpn8oe45ctxWmvKSMinLYz3yQgNRFBnK15ITGli2vGI7cJ2hTXygop/jYJfuwcDkhdvAhQDpdcG25YWRhEV+ZrM8fA1GbjfvE9Sn0B5BgrvGJz/5SfF8QOW1JRzLzAvnqy63DC25WQoC4udjWZ3y8vVWZ162/e14XiV5xXKhHOEPFrLIcJvL/d0984ppPZ/d9qPy2hGOXV72ekEegZHysscgAFNnQ14gijDwy/IK5ZmfqxKW+oTlRem4PllehiA+LECGyktG5bUjHL+83CDjy8sh8byk81YyZlBX5AWSwMunorxY27DwKLxPoM7Scs2lhXKK8oIyTZ6HK/G8VF4yKq8dYQnyspg68PMZPMPA58vP0NI1gBu0Uvu4nPK8/F5BAiQd8trZEitbOmeBPqF1UKmkNsDzujNGSG15+fuoiF3lJaPy2hG65KUsEi4zpQ+V146g8tpS2HMypR+V146g8to+7HKx9kcOpYrKa0dQeSn7hsprR1B5KfuGymtHUHkp+4bKa0dQeSn7hsprRwB5Kco+ofJSFGUnUXkpirKVqLwURdlKTnz/B38zKYqibBsqL0VRthKVl6IoW8mJP/vmtyaFgjvoi196vhupLOXo4M/j8T94rhupLOXoLOPz+Nb0/wGwYXJCiKrGEQAAAABJRU5ErkJggg==)\n",
        "\n",
        "The `/markets` endpoint returns a list of all the commingled products available in Joule. You can then search this in the same way you would an instrument list:"
      ],
      "metadata": {
        "id": "Ygb94ekjSZzy"
      }
    },
    {
      "cell_type": "code",
      "source": [
        "markets = get_df(markets_url)\n",
        "display(markets)\n",
        "ttf_market = markets[markets['name'] == 'TTF Hi Cal 51.6'].to_dict('records')[0]\n",
        "display(ttf_market)"
      ],
      "metadata": {
        "id": "7rb2Mmq3UUb4"
      },
      "execution_count": null,
      "outputs": []
    },
    {
      "cell_type": "markdown",
      "metadata": {
        "id": "lys1lqa7WK-7"
      },
      "source": [
        "## Finding the delivery period\n",
        "Delivery periods are grouped into 'Sequences' of similar items. For example, there are sequences for Gas Months, a sequence for Power Quarters, for Coal Years, etc.\n",
        "\n",
        "You can use the Reference Data API to retrieve a list of sequences available for individual instruments or markets:"
      ]
    },
    {
      "cell_type": "code",
      "metadata": {
        "id": "XI5l2Xd6T7AN"
      },
      "source": [
        "ttf_market_sequences = get_df(refdata_base_url + ttf_market['sequences'])\n",
        "display(ttf_market_sequences)"
      ],
      "execution_count": null,
      "outputs": []
    },
    {
      "cell_type": "markdown",
      "source": [
        "Once you've selected the sequence you are interested in, you can query the various delivery periods ('items') within that sequence. For example, the code below downloads all items from the Gas Prompt sequence:"
      ],
      "metadata": {
        "id": "mE9C9jUGaNRT"
      }
    },
    {
      "cell_type": "code",
      "metadata": {
        "id": "KuT2u3_KOsgo"
      },
      "source": [
        "ttf_prompt_sequence = ttf_market_sequences[ttf_market_sequences['name'] == 'Gas - NG Prompt'].to_dict('records')[0];\n",
        "ttf_prompt_sequence_items = get_df(refdata_base_url + ttf_market_sequences[ttf_market_sequences['name'] == 'Gas - NG Prompt'].to_dict('records')[0]['sequenceItems'])\n",
        "da_item = ttf_prompt_sequence_items[ttf_prompt_sequence_items['name'] == 'DA'].to_dict('records')[0];\n",
        "display(ttf_prompt_sequence_items)"
      ],
      "execution_count": null,
      "outputs": []
    },
    {
      "cell_type": "markdown",
      "source": [
        "The example above shows the `Gas - NG Prompt` items, which never expire.\n",
        "However, most delivery periods do have defined start and end times, which are shown in the API - for example, on the `Gas - NG Months` sequence:"
      ],
      "metadata": {
        "id": "D1J3kPw6my7L"
      }
    },
    {
      "cell_type": "code",
      "source": [
        "ttf_months_sequence = ttf_market_sequences[ttf_market_sequences['name'] == 'Gas - NG Months'].to_dict('records')[0];\n",
        "ttf_months_sequence = get_df(refdata_base_url + ttf_market_sequences[ttf_market_sequences['name'] == 'Gas - NG Months'].to_dict('records')[0]['sequenceItems'])\n",
        "display(ttf_months_sequence)"
      ],
      "metadata": {
        "id": "W8e6q8Ywn1u0"
      },
      "execution_count": null,
      "outputs": []
    },
    {
      "cell_type": "markdown",
      "source": [
        "### Expired delivery periods\n",
        "Note that in the example above, the results for the `Gas - NG Months` sequence starts with the current delivery month. To retrieve expired delivery periods, you will need to set the optional 'StartDate' parameter on the Reference Data API query to some time in the past; it will then return items starting from that date. You can also use the optional `Count` parameter to control how many items are returned:"
      ],
      "metadata": {
        "id": "56tlzv_GoV95"
      }
    },
    {
      "cell_type": "code",
      "source": [
        "params = {\n",
        "    'StartDate': '2010-01-01T00:00:00Z',\n",
        "    'Count': '10'\n",
        "}\n",
        "ttf_months_sequence = get_df(refdata_base_url + ttf_market_sequences[ttf_market_sequences['name'] == 'Gas - NG Months'].to_dict('records')[0]['sequenceItems'], params)\n",
        "display(ttf_months_sequence)"
      ],
      "metadata": {
        "id": "oTouye_GqI6W"
      },
      "execution_count": null,
      "outputs": []
    },
    {
      "cell_type": "markdown",
      "metadata": {
        "id": "7CC3JgSlqc2L"
      },
      "source": [
        "# Trade Queries\n",
        "Once you have the IDs for the market or instrument you're interested in, you can start retrieving trade information. There are five main endpoints available:\n",
        "\n",
        "* `/trades` - Returns a list of trades that occurred within the given time range.\n",
        "* `/trades/ohlcv` - Returns the Open, High, Low, Close and Volume for each time interval.\n",
        "* `/trades/last` - Returns the price and time of the last trade for the given contract.\n",
        "* `/trades/activity` - returns contracts that have been traded in the given time period and the number of trades for each.\n",
        "* `/trades/private` - returns trades made by your company within the given time range.\n",
        "\n"
      ]
    },
    {
      "cell_type": "markdown",
      "source": [
        "## Simple Trades\n",
        "You can retrieve up to 32 days' trades for a given contract with a single query. Basic information about each trade is returned, including its ID and execution venue.\n",
        "\n",
        "NB: Only 32 days of trades can be queried at once; however, you can request trades back to the start of your relationship with Trayport (or before, depending on the venue - see [Chapter 2 of the API guide](https://downloads.trayport.com//downloads/Documentation/DataAnalytics/Data_Analytics_API.pdf) for more details).\n",
        "\n",
        "Additional fields can be added to the output if requested in the `optionalFields` parameter. In the example below, the 'FromBrokenSpread' parameter is requested, which indicates whether the trade was the result of a spread being broken:"
      ],
      "metadata": {
        "id": "2du0etJ_ti1M"
      }
    },
    {
      "cell_type": "code",
      "source": [
        "params = {\n",
        "    'from': last_wednesday_open,\n",
        "    'until': last_wednesday_close,\n",
        "     'marketId': ttf_market['id'],\n",
        "     'sequenceId': ttf_prompt_sequence['id'],\n",
        "    'sequenceItemId': da_item['id'],\n",
        "    #'instrumentId': 10002096,\n",
        "    #'sequenceId': 10000305,\n",
        "    #'sequenceItemId': 228,\n",
        "    'ContractType': 'SinglePeriod',\n",
        "    # 'routes': ['all'],\n",
        "    'optionalFields': ['FromBrokenSpread'],\n",
        "}\n",
        "\n",
        "df_ttf_da_trades = get_df(trades_url, params)\n",
        "print(f'{len(df_ttf_da_trades)} rows')\n",
        "df_ttf_da_trades"
      ],
      "metadata": {
        "id": "NPSbXolUt2xD"
      },
      "execution_count": null,
      "outputs": []
    },
    {
      "cell_type": "markdown",
      "source": [
        "##Private Trades\n",
        "By default, only the public (anonymous) versions of trades are returned by the Simple trades query. However, you can set the `includePrivate` parameter to `true` to include these."
      ],
      "metadata": {
        "id": "Qqt0nH59zXuk"
      }
    },
    {
      "cell_type": "code",
      "source": [
        "params = {\n",
        "    'from': last_wednesday_open,\n",
        "    'until': last_wednesday_close,\n",
        "    'marketId': ttf_market['id'],\n",
        "    'sequenceId': ttf_prompt_sequence['id'],\n",
        "    'sequenceItemId': da_item['id'],\n",
        "    'ContractType': 'SinglePeriod',\n",
        "    'includePrivate': 'true'\n",
        "}\n",
        "\n",
        "df_ttf_da_trades = get_df(trades_url, params)\n",
        "print(f'{len(df_ttf_da_trades)} rows')\n",
        "df_ttf_da_trades"
      ],
      "metadata": {
        "id": "MzgL_pIqzf0d"
      },
      "execution_count": null,
      "outputs": []
    },
    {
      "cell_type": "markdown",
      "source": [
        "To retrieve *only* private trades, you can use the private trades endpoint, which doesn't require a contract to be specified (though you can use the contract fields"
      ],
      "metadata": {
        "id": "XeMipivDzj54"
      }
    },
    {
      "cell_type": "code",
      "source": [
        "params = {\n",
        "    'from': last_wednesday_open,\n",
        "    'until': last_wednesday_close,\n",
        "    # 'marketId': ttf_market['id'],\n",
        "    # 'sequenceId': ttf_prompt_sequence['id'],\n",
        "    # 'sequenceItemId': da_item['id'],\n",
        "    # 'ContractType': 'SinglePeriod'\n",
        "}\n",
        "\n",
        "private_df_ttf_da_trades = get_df(private_url, params)\n",
        "print(f'{len(private_df_ttf_da_trades)} rows')\n",
        "private_df_ttf_da_trades"
      ],
      "metadata": {
        "id": "jfsLVCCMzjix"
      },
      "execution_count": null,
      "outputs": []
    },
    {
      "cell_type": "markdown",
      "source": [
        "## Period Spreads\n",
        "The examples above show a query for a single delivery period. It is also possible to retrieve trade data for _spreads_ of delivery periods ('buying a spread' is buying the first leg and selling the second). To do this, you will need to provide the `secondSequenceItemId` parameter, which will be another delivery period from the same sequence. For example you might look for trades on front month vs next month on TTF:"
      ],
      "metadata": {
        "id": "92WxeTfs9yBr"
      }
    },
    {
      "cell_type": "code",
      "source": [
        "params = {\n",
        "    'Count': '3'\n",
        "}\n",
        "ttf_months_sequence = get_df(refdata_base_url + ttf_market_sequences[ttf_market_sequences['name'] == 'Gas - NG Months'].to_dict('records')[0]['sequenceItems'], params)\n",
        "front_month = ttf_months_sequence.to_dict('records')[1];\n",
        "next_month = ttf_months_sequence.to_dict('records')[2];\n",
        "\n",
        "display(front_month);\n",
        "display(next_month);\n",
        "\n",
        "params = {\n",
        "    'from': last_wednesday_open,\n",
        "    'until': last_wednesday_close,\n",
        "    'marketId': ttf_market['id'],\n",
        "    'sequenceId': ttf_market_sequences[ttf_market_sequences['name'] == 'Gas - NG Months']['id'],\n",
        "    'sequenceItemId': front_month['id'],\n",
        "    'secondSequenceItemId': next_month['id'],\n",
        "    'ContractType': 'Spread'\n",
        "}\n",
        "\n",
        "df_ttf_spread_trades = get_df(trades_url, params)\n",
        "print(f'{len(df_ttf_spread_trades)} rows')\n",
        "df_ttf_spread_trades\n"
      ],
      "metadata": {
        "id": "6n2tI3WnAZ9C"
      },
      "execution_count": null,
      "outputs": []
    },
    {
      "cell_type": "markdown",
      "source": [
        "## OHLCV\n",
        "To retrieve OHLCV ('candlestick') data for a contract, you must provide a time range and the period of each bucket/candlestick. Periods can be defined as multiples of the following units:\n",
        "\n",
        "* Minute\n",
        "* Hour\n",
        "* Day\n",
        "* Month\n",
        "\n",
        "The query below retrieves data for the Day Ahead TTF All Venues contract at 1m buckets from a day from the previous week. The data is then plotted as figure and candlestick charts.\n",
        "\n"
      ],
      "metadata": {
        "id": "FT93eYJxdWpR"
      }
    },
    {
      "cell_type": "code",
      "metadata": {
        "id": "W59mgr4Vqc2M"
      },
      "source": [
        "params = {\n",
        "    'from': '2023-09',\n",
        "    # 'from': last_wednesday_open,\n",
        "    'until': last_wednesday_close,\n",
        "    'interval': '15',\n",
        "    'intervalUnit': 'minute',\n",
        "    'marketId': ttf_market['id'],\n",
        "    'sequenceId': ttf_prompt_sequence['id'],\n",
        "    'sequenceItemId': da_item['id'],\n",
        "    'ContractType': 'SinglePeriod',\n",
        "    'optionalFields': ['vwap',\n",
        "                       #'OpenTimestamp','CloseTimestamp'\n",
        "                       ],\n",
        "    'includeEmptyBuckets': 'true'\n",
        "}\n",
        "\n",
        "df_ttf_da_candle = get_df(ohlcv_url, params)\n",
        "print(f'{len(df_ttf_da_candle)} rows')\n",
        "df_ttf_da_candle"
      ],
      "execution_count": null,
      "outputs": []
    },
    {
      "cell_type": "code",
      "metadata": {
        "id": "NDGKnII0qc2P"
      },
      "source": [
        "data = [\n",
        "    go.Candlestick(\n",
        "        name = 'TTF Hi Cal 51.6*',\n",
        "        x = df_ttf_da_candle.index, open = df_ttf_da_candle['open'], high = df_ttf_da_candle['high'], low = df_ttf_da_candle['low'], close = df_ttf_da_candle['close'],\n",
        "        yaxis = 'y2',\n",
        "        line = dict(width=1),\n",
        "        increasing = dict(line=dict(width=2, color='#55bb99'), fillcolor='#55bb99'),\n",
        "        decreasing = dict(line=dict(width=2, color='#ff3344'), fillcolor = '#ff5577'),\n",
        "    ),\n",
        "    go.Bar(\n",
        "        name = 'Volume',\n",
        "        x = df_ttf_da_candle.index, y = df_ttf_da_candle['volume'], yaxis = 'y',\n",
        "        marker = dict(color = df_ttf_da_candle['close'].diff().apply(lambda d: '#555555' if d > 0 else '#333333')),\n",
        "    )\n",
        "]\n",
        "\n",
        "layout = go.Layout(\n",
        "    template = 'plotly_dark', height=700, xaxis = dict(rangeslider=dict(visible=False)),\n",
        "    yaxis2 = dict(domain=[0.1, 1]),\n",
        "    yaxis = dict(domain=[0.0, 0.1], showticklabels=False, showgrid=False),\n",
        ")\n",
        "\n",
        "fig = go.Figure(data=data, layout=layout)\n",
        "fig.show()"
      ],
      "execution_count": null,
      "outputs": []
    },
    {
      "cell_type": "markdown",
      "metadata": {
        "id": "wNyUHPnTqc2S"
      },
      "source": [
        "### Multiple Contracts\n",
        "The example below builds on the queries above to compare the close price for different gas hubs for each minute throughout the day. Note that each contract is being separately queried; it is not possible to specify multiple contracts in a single query."
      ]
    },
    {
      "cell_type": "code",
      "metadata": {
        "id": "tQkNEyOqqc2T"
      },
      "source": [
        "chart_markets = markets[markets['name'].apply(lambda n: n == 'TTF Hi Cal 51.6' or n == 'THE' or n == 'PEG')]\n",
        "\n",
        "params = {\n",
        "    'from': last_wednesday_open,\n",
        "    'until': last_wednesday_close,\n",
        "    'interval': '1',\n",
        "    'intervalUnit': 'minute',\n",
        "    'sequenceId': ttf_prompt_sequence['id'],\n",
        "    'sequenceItemId': da_item['id'],\n",
        "    'ContractType': 'SinglePeriod'\n",
        "}\n",
        "\n",
        "df_close = pd.DataFrame()\n",
        "df_vol = pd.DataFrame()\n",
        "for _, market in chart_markets.iterrows():\n",
        "    df_single = get_df(ohlcv_url, { **params, 'marketId': market['id'] })\n",
        "    if len(df_single) > 0:\n",
        "      name = market['name'] + '*'\n",
        "      df_close[name] = df_single['close']\n",
        "      df_vol[name] = df_single['volume']\n",
        "\n",
        "display(HTML('<h2>Close</h2>'))\n",
        "display(df_close.head(5))\n",
        "display(HTML('<br>'))\n",
        "display(HTML('<h2>Volumes</h2>'))\n",
        "display(df_vol.head(5))"
      ],
      "execution_count": null,
      "outputs": []
    },
    {
      "cell_type": "code",
      "metadata": {
        "id": "BTpDhmr5qc2V"
      },
      "source": [
        "df_close_marker = df_close - df_close.min()\n",
        "df_close_marker = df_close_marker / df_close_marker.max() * 10 + 2\n",
        "df_close_marker = df_close_marker.apply(np.ceil).fillna(0)\n",
        "df_close_marker\n",
        "\n",
        "data = [\n",
        "    go.Scatter(\n",
        "        name = col,\n",
        "        x = df_close.index, y = df_close[col],\n",
        "        mode = 'lines+markers',\n",
        "        line = dict(width=1), marker = dict(size = df_close_marker[col]), connectgaps = True\n",
        "    ) for col in df_close.columns\n",
        "]\n",
        "\n",
        "layout = go.Layout(template = 'plotly_dark')\n",
        "\n",
        "fig = go.Figure(data=data, layout=layout)\n",
        "iplot(fig)"
      ],
      "execution_count": null,
      "outputs": []
    },
    {
      "cell_type": "markdown",
      "source": [
        "## Last Traded Price\n",
        "You can use the `/trades/last` endpoint to retrieve the time and price of the last trade that occurred on the specified contract.\n",
        "\n",
        "By default, the endpoint will give you the time and price of the last trade that is visible to you (depending on your intraday permissions, this will either be 'now' or the last trade before midnight UTC today).\n",
        "\n",
        "You can also use the optional `at` parameter to request the LTP at any given time in the past, specified to the nearest minute."
      ],
      "metadata": {
        "id": "nf4lDY-UDpwL"
      }
    },
    {
      "cell_type": "code",
      "source": [
        "params = {\n",
        "    'at': last_wednesday_close,\n",
        "    'marketId': ttf_market['id'],\n",
        "    #'instrumentId': 10002228,\n",
        "    'sequenceId': ttf_prompt_sequence['id'],\n",
        "    'sequenceItemId': da_item['id'],\n",
        "    'ContractType': 'SinglePeriod',\n",
        "}\n",
        "\n",
        "df_ttf_da_last = get_df(last_url, params)\n",
        "\n",
        "print()\n",
        "print(\"Time: \" + str(datetime.utcfromtimestamp(df_ttf_da_last['dealDate'][0]/1000000000)))\n",
        "df_ttf_da_last"
      ],
      "metadata": {
        "id": "LT8fyVL6FKmZ"
      },
      "execution_count": null,
      "outputs": []
    },
    {
      "cell_type": "markdown",
      "source": [
        "## Activity\n",
        "The `/activity` endpoint returns a list of unique contracts that have been traded within the given start and end times, along with the number of trades that occurred on each. The example below returns a list of all the contracts that traded over the course of a day:"
      ],
      "metadata": {
        "id": "7UI4z1eO3Xjg"
      }
    },
    {
      "cell_type": "code",
      "source": [
        "params = {\n",
        "    'from': last_wednesday_open,\n",
        "    'until': last_wednesday_close\n",
        "}\n",
        "\n",
        "activity = get_df(activity_url, params)\n",
        "display(activity)"
      ],
      "metadata": {
        "id": "jr2C8ptqAHVP"
      },
      "execution_count": null,
      "outputs": []
    },
    {
      "cell_type": "markdown",
      "metadata": {
        "id": "zC9Dmb2B2Yuk"
      },
      "source": [
        "# Order Queries\n",
        "You can retrieve historical order information in two ways:\n",
        "* `/orders/book/top` (aka 'Level 1') - Returns the best bid and ask price for a given time range and contract.\n",
        "* `/orders/book` (aka 'Level 2') - Returns snapshots of the full orderbook.\n",
        "\n",
        "Order information is not available at the 'tick' level. Instead, it can be queried in multiples of the following intervals:\n",
        "* Second\n",
        "* Minute\n",
        "* Hour"
      ]
    },
    {
      "cell_type": "markdown",
      "source": [
        "## Level 1 - Best bid & ask\n",
        "The query below retrieves the best bid and ask prices for the TTF* DA contract for each second throughout the day."
      ],
      "metadata": {
        "id": "oHuHwM7Zwk5i"
      }
    },
    {
      "cell_type": "code",
      "metadata": {
        "id": "OG2hO6Zk2c0K"
      },
      "source": [
        "\n",
        "params = {\n",
        "    'from': '2023-04-26T15:05',\n",
        "    'until': '2023-04-27T15:15',\n",
        "    'marketId': ttf_market['id'],\n",
        "    'sequenceId': ttf_prompt_sequence['id'],\n",
        "    'sequenceItemId': da_item['id'],\n",
        "    'interval': '1',\n",
        "    'intervalUnit': 'second',\n",
        "    'ContractType': 'SinglePeriod',\n",
        "    'includePrivate': 'true',\n",
        "    'optionalFields': ['venueCode'],\n",
        "    # 'routes': ['all']\n",
        "}\n",
        "\n",
        "df_ttf_da = get_df(book_top_url, params)\n",
        "print(f'{len(df_ttf_da)} rows')\n",
        "df_ttf_da.head(10)"
      ],
      "execution_count": null,
      "outputs": []
    },
    {
      "cell_type": "code",
      "metadata": {
        "id": "QIsOelX92t9z"
      },
      "source": [
        "data = [\n",
        "    go.Scatter(\n",
        "        name = 'Bid',\n",
        "        x = df_ttf_da.index, y = df_ttf_da['bidPrice'],\n",
        "        line = dict(width=3, color='#7777FF'),\n",
        "        connectgaps = True\n",
        "    ),\n",
        "    go.Scatter(\n",
        "        name = 'Ask',\n",
        "        x = df_ttf_da.index, y = df_ttf_da['askPrice'],\n",
        "        line = dict(width=3, color='#FF7777'),\n",
        "        connectgaps = True\n",
        "    )\n",
        "]\n",
        "layout = go.Layout(template = 'plotly_dark')\n",
        "fig = go.Figure(data=data, layout=layout)\n",
        "iplot(fig)"
      ],
      "execution_count": null,
      "outputs": []
    },
    {
      "cell_type": "markdown",
      "metadata": {
        "id": "ZS7BRKV53ph6"
      },
      "source": [
        "## Level 2 - Market Depth\n",
        "This query retrieves the best 25 bids and asks for the TTF* DA contract at the end of each minute throughout the day. The full orderbook is available and can be requested by increasing the optional `depth` parameter, which has a default value of `10`.\n",
        "\n",
        "Alternatively, you can use the optional `maxSpread` parameter to request orders that are within the given percentage of the best bid or ask."
      ]
    },
    {
      "cell_type": "code",
      "metadata": {
        "id": "zvjwElmn4aCc"
      },
      "source": [
        "depth = 25\n",
        "\n",
        "params = {\n",
        "    'from': '2023-04-26',\n",
        "    'until': '2023-04-27',\n",
        "    'marketId': ttf_market['id'],\n",
        "    'sequenceId': ttf_prompt_sequence['id'],\n",
        "    'sequenceItemId': da_item['id'],\n",
        "    'interval': '1',\n",
        "    'intervalUnit': 'minute',\n",
        "    'ContractType': 'SinglePeriod',\n",
        "    'depth' : depth,\n",
        "    'includePrivate': 'true',\n",
        "    'optionalFields': ['venueCode'],\n",
        "    'maxSpread' : 20,\n",
        "    # 'routes': ['all']\n",
        "}\n",
        "\n",
        "df_ttf_da_depth = get_df(book_url, params)\n",
        "print(f'{len(df_ttf_da_depth)} rows')\n",
        "df_ttf_da_depth.head(depth)"
      ],
      "execution_count": null,
      "outputs": []
    },
    {
      "cell_type": "code",
      "metadata": {
        "id": "Rab0RdCUD-xs"
      },
      "source": [
        "def get_price_at(level, obj):\n",
        "  if len(obj) <= level:\n",
        "    return np.nan\n",
        "  return obj[level]['price']\n",
        "\n",
        "for i in range(depth):\n",
        "  df_ttf_da_depth[f'bid_price_{i+1}'] = df_ttf_da_depth['bids'].apply(partial(get_price_at, i))\n",
        "  df_ttf_da_depth[f'ask_price_{i+1}'] = df_ttf_da_depth['asks'].apply(partial(get_price_at, i))\n",
        "\n",
        "df_ttf_da_depth['mid_price'] = (df_ttf_da_depth['bid_price_1'] + df_ttf_da_depth['ask_price_1']) / 2.0"
      ],
      "execution_count": null,
      "outputs": []
    },
    {
      "cell_type": "code",
      "metadata": {
        "id": "T7nLJWsn4yLu"
      },
      "source": [
        "data = []\n",
        "\n",
        "data.extend([\n",
        "    go.Scatter(\n",
        "        name = f'Bid Level {i}',\n",
        "        x = df_ttf_da_depth.index, y = df_ttf_da_depth[f'bid_price_{i}'],\n",
        "        mode = 'markers',\n",
        "        marker = dict(color=f'#{round(i/depth)}{round(i/depth)}{round(i/depth)}{round(i/depth)}FF')\n",
        "    ) for i in range(1, depth+1)\n",
        "])\n",
        "\n",
        "data.extend([\n",
        "    go.Scatter(\n",
        "        name = f'Ask Level {i}',\n",
        "        x = df_ttf_da_depth.index, y = df_ttf_da_depth[f'ask_price_{i}'],\n",
        "        mode = 'markers',\n",
        "        marker = dict(color=f'#FF{round(i/depth)}{round(i/depth)}{round(i/depth)}{round(i/depth)}')\n",
        "    ) for i in range(1, depth+1)\n",
        "])\n",
        "\n",
        "data.extend([\n",
        "    go.Scatter(\n",
        "        name = f'Mid',\n",
        "        x = df_ttf_da_depth.index, y = df_ttf_da_depth['mid_price'],\n",
        "        mode = 'lines',\n",
        "        line = dict(width=5, color='#ffffff'),\n",
        "        opacity = 0.3\n",
        "    )\n",
        "])\n",
        "\n",
        "layout = go.Layout(template = 'plotly_dark', height=800)\n",
        "\n",
        "fig = go.Figure(data=data, layout=layout)\n",
        "iplot(fig)"
      ],
      "execution_count": null,
      "outputs": []
    }
  ]
}